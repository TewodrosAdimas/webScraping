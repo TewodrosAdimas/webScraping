{
 "cells": [
  {
   "cell_type": "code",
   "execution_count": null,
   "metadata": {
    "vscode": {
     "languageId": "plaintext"
    }
   },
   "outputs": [],
   "source": [
    "from bs4 import BeautifulSoup\n",
    "import requests\n",
    "import pandas as pd\n",
    "import time\n"
   ]
  },
  {
   "cell_type": "code",
   "execution_count": null,
   "metadata": {
    "vscode": {
     "languageId": "plaintext"
    }
   },
   "outputs": [],
   "source": [
    "URL = \"https://www.amazon.com/s?k=amharic+books&i=stripbooks-intl-ship&crid=13KU6MP8CV12F&sprefix=amharic+book%2Cstripbooks-intl-ship%2C337&ref=nb_sb_noss_2\""
   ]
  },
  {
   "cell_type": "code",
   "execution_count": null,
   "metadata": {
    "vscode": {
     "languageId": "plaintext"
    }
   },
   "outputs": [],
   "source": [
    "HEADERS = {\n",
    "    'User-Agent': 'Mozilla/5.0 (Linux; Android 13; Pixel 6) AppleWebKit/537.36 (KHTML, like Gecko) Chrome/112.0.0.0 Mobile Safari/537.36',\n",
    "    'Accept-Language': 'am, en-US, en;q=0.5'\n",
    "}\n"
   ]
  },
  {
   "cell_type": "code",
   "execution_count": null,
   "metadata": {
    "vscode": {
     "languageId": "plaintext"
    }
   },
   "outputs": [],
   "source": [
    "# Get the search page\n",
    "webpage = requests.get(URL, headers=HEADERS)\n",
    "webpage\n",
    "# soup = BeautifulSoup(webpage.content, \"html.parser\")"
   ]
  },
  {
   "cell_type": "code",
   "execution_count": null,
   "metadata": {
    "vscode": {
     "languageId": "plaintext"
    }
   },
   "outputs": [],
   "source": [
    "# Fetch links as List of Tag Objects\n",
    "links = soup.find_all(\"a\", attrs={'class':'a-link-normal s-faceout-link a-text-normal'})"
   ]
  },
  {
   "cell_type": "code",
   "execution_count": null,
   "metadata": {
    "vscode": {
     "languageId": "plaintext"
    }
   },
   "outputs": [],
   "source": [
    "# Extract product links\n",
    "product_list = []\n",
    "for link in links:\n",
    "    href = link.get('href')\n",
    "    if href:\n",
    "        product_list.append(\"https://amazon.com\" + href)"
   ]
  },
  {
   "cell_type": "code",
   "execution_count": null,
   "metadata": {
    "vscode": {
     "languageId": "plaintext"
    }
   },
   "outputs": [],
   "source": [
    "# Initialize lists to store data\n",
    "titles, authors, ratings, prices = [], [], [], []"
   ]
  },
  {
   "cell_type": "code",
   "execution_count": null,
   "metadata": {
    "vscode": {
     "languageId": "plaintext"
    }
   },
   "outputs": [],
   "source": [
    "# Loop through each product link and extract details\n",
    "for link in product_list:\n",
    "    try:\n",
    "        response = requests.get(link, headers=HEADERS)\n",
    "        time.sleep(2)  # Delay to prevent getting blocked\n",
    "        if response.status_code == 200:\n",
    "            soup = BeautifulSoup(response.content, \"html.parser\")\n",
    "            \n",
    "            # Extract title\n",
    "            try:\n",
    "                title = soup.find(\"span\", attrs={\"id\": \"productTitle\"}).text.strip()\n",
    "            except AttributeError:\n",
    "                title = \"N/A\"\n",
    "            \n",
    "            # Extract author\n",
    "            try:\n",
    "                author = soup.find(\"a\", attrs={\"class\": \"a-link-normal contributorNameID\"}).text.strip()\n",
    "            except AttributeError:\n",
    "                author = \"N/A\"\n",
    "            \n",
    "            # Extract rating\n",
    "            try:\n",
    "                rating = soup.find(\"span\", attrs={\"class\": \"a-icon-alt\"}).text.strip()\n",
    "            except AttributeError:\n",
    "                rating = \"No rating\"\n",
    "            \n",
    "            # Extract price\n",
    "            try:\n",
    "                price = soup.find(\"span\", attrs={\"class\": \"a-size-medium a-color-price\"}).text.strip()\n",
    "            except AttributeError:\n",
    "                price = \"Price not available\"\n",
    "            \n",
    "            # Append the extracted data to the lists\n",
    "            titles.append(title)\n",
    "            authors.append(author)\n",
    "            ratings.append(rating)\n",
    "            prices.append(price)\n",
    "\n",
    "        else:\n",
    "            print(f\"Failed to retrieve {link} - Status code: {response.status_code}\")\n",
    "\n",
    "    except requests.RequestException as e:\n",
    "        print(f\"An error occurred with {link}: {e}\")\n"
   ]
  },
  {
   "cell_type": "code",
   "execution_count": null,
   "metadata": {
    "vscode": {
     "languageId": "plaintext"
    }
   },
   "outputs": [],
   "source": [
    "# Create a DataFrame with the scraped data\n",
    "df = pd.DataFrame({\n",
    "    'Title': titles,\n",
    "    'Author': authors,\n",
    "    'Rating': ratings,\n",
    "    'Price': prices\n",
    "})\n",
    "\n",
    "# Save the data to a CSV file\n",
    "df.to_csv('amazon_books.csv', index=False)\n",
    "\n",
    "print(df)"
   ]
  }
 ],
 "metadata": {
  "language_info": {
   "name": "python"
  }
 },
 "nbformat": 4,
 "nbformat_minor": 2
}
